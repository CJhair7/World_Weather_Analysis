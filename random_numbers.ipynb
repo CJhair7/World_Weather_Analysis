{
 "cells": [
  {
   "cell_type": "code",
   "execution_count": 1,
   "id": "5537907b",
   "metadata": {},
   "outputs": [],
   "source": [
    "# Importing the randon module\n",
    "import random"
   ]
  },
  {
   "cell_type": "code",
   "execution_count": 2,
   "id": "3b939c40",
   "metadata": {},
   "outputs": [
    {
     "data": {
      "text/plain": [
       "-54"
      ]
     },
     "execution_count": 2,
     "metadata": {},
     "output_type": "execute_result"
    }
   ],
   "source": [
    "random.randint(-90, 90)"
   ]
  },
  {
   "cell_type": "code",
   "execution_count": 3,
   "id": "fc7eeb8e",
   "metadata": {},
   "outputs": [
    {
     "data": {
      "text/plain": [
       "0.9998938083853287"
      ]
     },
     "execution_count": 3,
     "metadata": {},
     "output_type": "execute_result"
    }
   ],
   "source": [
    "random.random()"
   ]
  },
  {
   "cell_type": "code",
   "execution_count": 5,
   "id": "f2efd32e",
   "metadata": {},
   "outputs": [
    {
     "data": {
      "text/plain": [
       "-30.35373911770497"
      ]
     },
     "execution_count": 5,
     "metadata": {},
     "output_type": "execute_result"
    }
   ],
   "source": [
    "random_number = random.randint(-90, 89) + random.random()\n",
    "random_number"
   ]
  },
  {
   "cell_type": "code",
   "execution_count": 10,
   "id": "541375ca",
   "metadata": {},
   "outputs": [
    {
     "data": {
      "text/plain": [
       "[19.609195141335345,\n",
       " -17.266836588357194,\n",
       " 6.010816092485937,\n",
       " 70.75079117344785,\n",
       " 69.35884702767366,\n",
       " -55.72525173728673,\n",
       " 4.148514038073668,\n",
       " -49.35947942588777,\n",
       " -2.8281315716281017,\n",
       " -3.657973466367945]"
      ]
     },
     "execution_count": 10,
     "metadata": {},
     "output_type": "execute_result"
    }
   ],
   "source": [
    "x = 1 \n",
    "latitudes = []\n",
    "while x < 11: \n",
    "    random_lat= random.randint(-90, 89) + random.random()\n",
    "    latitudes.append(random_lat)\n",
    "    x += 1\n",
    "latitudes"
   ]
  },
  {
   "cell_type": "code",
   "execution_count": 13,
   "id": "efe7914c",
   "metadata": {},
   "outputs": [
    {
     "data": {
      "text/plain": [
       "9"
      ]
     },
     "execution_count": 13,
     "metadata": {},
     "output_type": "execute_result"
    }
   ],
   "source": [
    "# using the randrange() f\n",
    "random.randrange(-90, 90, step= 3)"
   ]
  },
  {
   "cell_type": "code",
   "execution_count": 14,
   "id": "6617d749",
   "metadata": {},
   "outputs": [],
   "source": [
    "# Import the NumPy module.\n",
    "import numpy as np"
   ]
  },
  {
   "cell_type": "code",
   "execution_count": 15,
   "id": "eb90fc35",
   "metadata": {},
   "outputs": [
    {
     "data": {
      "text/plain": [
       "34.96346509768995"
      ]
     },
     "execution_count": 15,
     "metadata": {},
     "output_type": "execute_result"
    }
   ],
   "source": [
    "np.random.uniform(-90.000, 90.000)"
   ]
  },
  {
   "cell_type": "code",
   "execution_count": 16,
   "id": "2f48e72d",
   "metadata": {},
   "outputs": [
    {
     "data": {
      "text/plain": [
       "array([ 28.97776942,  38.51736106, -87.64505617, -21.52958658,\n",
       "       -56.695608  ,  62.5581108 , -38.37422606, -73.36685655,\n",
       "       -85.40330432,  10.87962627,  86.11259338, -19.05216409,\n",
       "        36.1127064 , -18.48296406,  82.25382292, -59.17860403,\n",
       "        38.95718027, -22.19019769, -14.80587539,  -3.4015597 ,\n",
       "        81.804204  ,  45.07717631, -88.13576726,  58.07613481,\n",
       "       -56.91392189,  70.95942597,  67.65046342, -31.47399071,\n",
       "       -24.77102583, -88.40925254,  29.85220613,  45.26484671,\n",
       "         5.40627428, -31.7092268 , -86.51565907,  -6.12591021,\n",
       "       -82.81063213,  10.28866276, -38.20017431, -11.22851044,\n",
       "       -85.55025659,  81.48502427, -11.90782125, -12.90743021,\n",
       "        12.3806559 ,  41.15002575,  36.60847284,  -2.87053247,\n",
       "        42.77842589, -66.77549794])"
      ]
     },
     "execution_count": 16,
     "metadata": {},
     "output_type": "execute_result"
    }
   ],
   "source": [
    "#Add more than one floating_point decimal numberwith the size parametre\n",
    "np.random.uniform(-90.000, 90.000, size=50)"
   ]
  },
  {
   "cell_type": "code",
   "execution_count": 17,
   "id": "3ff2c12f",
   "metadata": {},
   "outputs": [],
   "source": [
    "# Import timeit\n",
    "import timeit"
   ]
  },
  {
   "cell_type": "code",
   "execution_count": 18,
   "id": "5f03eacf",
   "metadata": {},
   "outputs": [
    {
     "name": "stdout",
     "output_type": "stream",
     "text": [
      "13.2 µs ± 326 ns per loop (mean ± std. dev. of 7 runs, 100000 loops each)\n"
     ]
    }
   ],
   "source": [
    "%timeit np.random.uniform(-90.000, 90.000, size=1500)"
   ]
  },
  {
   "cell_type": "code",
   "execution_count": 19,
   "id": "0016f189",
   "metadata": {},
   "outputs": [
    {
     "name": "stdout",
     "output_type": "stream",
     "text": [
      "1.71 ms ± 21 µs per loop (mean ± std. dev. of 7 runs, 1000 loops each)\n"
     ]
    }
   ],
   "source": [
    "def latitudes(size):\n",
    "    latitudes = []\n",
    "    x = 0\n",
    "    while x < (size):\n",
    "        random_lat = random.randint(-90, 90) + random.random()\n",
    "        latitudes.append(random_lat)\n",
    "        x += 1\n",
    "    return latitudes\n",
    "# Call the function with 1500.\n",
    "%timeit latitudes(1500)"
   ]
  },
  {
   "cell_type": "code",
   "execution_count": null,
   "id": "a0db6ad7",
   "metadata": {},
   "outputs": [],
   "source": []
  }
 ],
 "metadata": {
  "kernelspec": {
   "display_name": "PythonData",
   "language": "python",
   "name": "pythondata"
  },
  "language_info": {
   "codemirror_mode": {
    "name": "ipython",
    "version": 3
   },
   "file_extension": ".py",
   "mimetype": "text/x-python",
   "name": "python",
   "nbconvert_exporter": "python",
   "pygments_lexer": "ipython3",
   "version": "3.7.10"
  }
 },
 "nbformat": 4,
 "nbformat_minor": 5
}
